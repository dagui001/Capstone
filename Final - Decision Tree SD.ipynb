{
 "cells": [
  {
   "cell_type": "code",
   "execution_count": 15,
   "metadata": {},
   "outputs": [
    {
     "name": "stdout",
     "output_type": "stream",
     "text": [
      "    Fire_Sprinkler    Building_Occupancy          Room_Name  Room_Area  \\\n",
      "0              Yes       Office Building          Reception        300   \n",
      "1               No    Apartment Building           Playroom        300   \n",
      "2              Yes       Office Building         Conference        300   \n",
      "3              Yes      Medical Building          Exam Room        100   \n",
      "4              Yes       Office Building          Reception        100   \n",
      "5              Yes       Office Building         Conference        100   \n",
      "6               No       Office Building     Elevator Lobby        200   \n",
      "7               No       Office Building          Breakroom        300   \n",
      "8              Yes       Office Building          Breakroom        100   \n",
      "9              Yes       Office Building           Bathroom        100   \n",
      "10              No       Office Building           Corridor        200   \n",
      "11             Yes    Apartment Building           Bathroom        100   \n",
      "12             Yes      Medical Building    Patient Bedroom        300   \n",
      "13             Yes       Office Building            Storage        300   \n",
      "14              No      Medical Building    Electrical Room        300   \n",
      "15              No       Office Building           Corridor        100   \n",
      "16             Yes       Office Building             Office        100   \n",
      "17             Yes    Apartment Building              Lobby        200   \n",
      "18              No       Office Building           Corridor       1000   \n",
      "19             Yes    Apartment Building               Hall        100   \n",
      "20             Yes    Apartment Building          Breakfast        200   \n",
      "21              No    Apartment Building     Master Bedroom        100   \n",
      "22             Yes       Office Building            Storage        300   \n",
      "23              No      Medical Building     Procedure Room        100   \n",
      "24              No       Office Building    Mechanical Room        300   \n",
      "25              No    Apartment Building     Fire Pump Room        300   \n",
      "26              No      Medical Building     Procedure Room        200   \n",
      "27              No    Apartment Building          Breakfast        300   \n",
      "28             Yes    Apartment Building    Mechanical Room        300   \n",
      "29             Yes    Apartment Building            Bedroom        300   \n",
      "..             ...                   ...                ...        ...   \n",
      "300            Yes      Medical Building       Nuc Med Room        100   \n",
      "301            Yes      Medical Building             Garage        300   \n",
      "302            Yes       Office Building             Office        100   \n",
      "303             No      Medical Building      Spect CT Room        100   \n",
      "304             No       Office Building             Office       1000   \n",
      "305            Yes      Medical Building            Storage        300   \n",
      "306            Yes       Office Building             Office       1000   \n",
      "307             No    Apartment Building           Corridor       1000   \n",
      "308            Yes    Apartment Building            Storage        200   \n",
      "309             No      Medical Building    Mechanical Room        100   \n",
      "310             No       Office Building          Breakroom        100   \n",
      "311            Yes    Apartment Building             Closet        100   \n",
      "312             No      Medical Building       Control Room        200   \n",
      "313            Yes      Medical Building                Gym        300   \n",
      "314            Yes      Medical Building      Nurse Station        300   \n",
      "315            Yes      Medical Building              Lobby        100   \n",
      "316            Yes       Office Building                Gym        300   \n",
      "317             No    Apartment Building    Mechanical Room        100   \n",
      "318             No      Medical Building        Pre/Post Op        200   \n",
      "319             No    Apartment Building          Breakfast        100   \n",
      "320             No    Apartment Building             Closet        300   \n",
      "321             No    Apartment Building     Fire Pump Room        100   \n",
      "322            Yes      Medical Building           Corridor       1000   \n",
      "323            Yes      Medical Building     Fire Pump Room        300   \n",
      "324             No      Medical Building             Garage        100   \n",
      "325            Yes      Medical Building             Garage        300   \n",
      "326             No    Apartment Building      Guest Bedroom        200   \n",
      "327            Yes       Office Building    Electrical Room        100   \n",
      "328             No      Medical Building     Generator Room        300   \n",
      "329            Yes    Apartment Building            Kitchen        200   \n",
      "\n",
      "     Smoke_Detector  \n",
      "0                 1  \n",
      "1                 0  \n",
      "2                 0  \n",
      "3                 0  \n",
      "4                 1  \n",
      "5                 0  \n",
      "6                 1  \n",
      "7                 1  \n",
      "8                 0  \n",
      "9                 0  \n",
      "10                1  \n",
      "11                0  \n",
      "12                1  \n",
      "13                0  \n",
      "14                1  \n",
      "15                1  \n",
      "16                0  \n",
      "17                1  \n",
      "18                1  \n",
      "19                1  \n",
      "20                0  \n",
      "21                1  \n",
      "22                0  \n",
      "23                1  \n",
      "24                1  \n",
      "25                1  \n",
      "26                1  \n",
      "27                0  \n",
      "28                0  \n",
      "29                1  \n",
      "..              ...  \n",
      "300               0  \n",
      "301               0  \n",
      "302               0  \n",
      "303               1  \n",
      "304               1  \n",
      "305               0  \n",
      "306               0  \n",
      "307               1  \n",
      "308               0  \n",
      "309               1  \n",
      "310               1  \n",
      "311               0  \n",
      "312               1  \n",
      "313               0  \n",
      "314               0  \n",
      "315               1  \n",
      "316               0  \n",
      "317               1  \n",
      "318               1  \n",
      "319               0  \n",
      "320               0  \n",
      "321               1  \n",
      "322               1  \n",
      "323               0  \n",
      "324               0  \n",
      "325               0  \n",
      "326               1  \n",
      "327               0  \n",
      "328               1  \n",
      "329               0  \n",
      "\n",
      "[330 rows x 5 columns]\n"
     ]
    }
   ],
   "source": [
    "import pandas as pd\n",
    "import numpy as np\n",
    "import matplotlib.pyplot as plt\n",
    "import seaborn as sns\n",
    "%matplotlib inline\n",
    "\n",
    "#Read in the dataset\n",
    "df = pd.read_csv('data1.csv')\n",
    "print(df)"
   ]
  },
  {
   "cell_type": "code",
   "execution_count": 2,
   "metadata": {
    "collapsed": true
   },
   "outputs": [],
   "source": [
    "#Preprocess the dataset \n",
    "RoomName=pd.get_dummies(df['Room_Name'])\n",
    "BuildingOccupancy=pd.get_dummies(df['Building_Occupancy'])\n",
    "FireSprinkler=pd.get_dummies(df['Fire_Sprinkler'], drop_first=True)\n",
    "SmokeDetector=pd.get_dummies(df['Smoke_Detector'], drop_first=True)\n",
    "df=pd.concat([RoomName,BuildingOccupancy,FireSprinkler,df['Room_Area'],SmokeDetector],axis=1)"
   ]
  },
  {
   "cell_type": "code",
   "execution_count": 3,
   "metadata": {},
   "outputs": [
    {
     "name": "stderr",
     "output_type": "stream",
     "text": [
      "/anaconda/lib/python2.7/site-packages/sklearn/cross_validation.py:41: DeprecationWarning: This module was deprecated in version 0.18 in favor of the model_selection module into which all the refactored classes and functions are moved. Also note that the interface of the new CV iterators are different from that of this module. This module will be removed in 0.20.\n",
      "  \"This module will be removed in 0.20.\", DeprecationWarning)\n"
     ]
    }
   ],
   "source": [
    "#Split the dataset to test and train data\n",
    "from sklearn.cross_validation import train_test_split\n",
    "X=df.drop(1,axis=1)\n",
    "X=X.drop(\"Room_Area\",axis=1)\n",
    "Y=df[1]\n",
    "X_train, X_test, Y_train, Y_test=train_test_split(X,Y,test_size=0.3)"
   ]
  },
  {
   "cell_type": "code",
   "execution_count": 4,
   "metadata": {
    "collapsed": true
   },
   "outputs": [],
   "source": [
    "#Fit the training data to the Decision Tree classifier algorithm and produce classification prediction of the test data\n",
    "from sklearn.tree import DecisionTreeClassifier\n",
    "dtree=DecisionTreeClassifier()\n",
    "dtree.fit(X_train,Y_train)\n",
    "predictions = dtree.predict(X_test)"
   ]
  },
  {
   "cell_type": "code",
   "execution_count": 5,
   "metadata": {},
   "outputs": [
    {
     "name": "stdout",
     "output_type": "stream",
     "text": [
      "[[43  1]\n",
      " [ 1 54]]\n",
      "\n",
      "\n",
      "             precision    recall  f1-score   support\n",
      "\n",
      "          0       0.98      0.98      0.98        44\n",
      "          1       0.98      0.98      0.98        55\n",
      "\n",
      "avg / total       0.98      0.98      0.98        99\n",
      "\n"
     ]
    }
   ],
   "source": [
    "#Confusion matrix and Classification report of the Decision Tree classifier\n",
    "from sklearn.metrics import classification_report,confusion_matrix\n",
    "print (confusion_matrix(Y_test,predictions))\n",
    "print ('\\n')\n",
    "print (classification_report(Y_test,predictions))"
   ]
  },
  {
   "cell_type": "code",
   "execution_count": 6,
   "metadata": {},
   "outputs": [
    {
     "name": "stderr",
     "output_type": "stream",
     "text": [
      "/anaconda/lib/python2.7/site-packages/sklearn/ensemble/weight_boosting.py:29: DeprecationWarning: numpy.core.umath_tests is an internal NumPy module and should not be imported. It will be removed in a future NumPy release.\n",
      "  from numpy.core.umath_tests import inner1d\n"
     ]
    }
   ],
   "source": [
    "#Fit the training data to the Random Forest classifier algorithm and produce classification prediction of the test data\n",
    "from sklearn.ensemble import RandomForestClassifier\n",
    "rfc = RandomForestClassifier(n_estimators=90)\n",
    "rfc.fit(X_train,Y_train)\n",
    "rfc_rped=rfc.predict(X_test)"
   ]
  },
  {
   "cell_type": "code",
   "execution_count": 7,
   "metadata": {},
   "outputs": [
    {
     "name": "stdout",
     "output_type": "stream",
     "text": [
      "[[43  1]\n",
      " [ 1 54]]\n",
      "\n",
      "\n",
      "             precision    recall  f1-score   support\n",
      "\n",
      "          0       0.98      0.98      0.98        44\n",
      "          1       0.98      0.98      0.98        55\n",
      "\n",
      "avg / total       0.98      0.98      0.98        99\n",
      "\n"
     ]
    }
   ],
   "source": [
    "#Confusion matrix and Classification report of the Random Forest classifier\n",
    "print (confusion_matrix(Y_test,rfc_rped))\n",
    "print ('\\n')\n",
    "print (classification_report(Y_test,rfc_rped))"
   ]
  },
  {
   "cell_type": "code",
   "execution_count": 16,
   "metadata": {
    "collapsed": true
   },
   "outputs": [],
   "source": [
    "#list of the scores that will appended from the for loop using the mean_max_min function below\n",
    "precision_list=[]\n",
    "recall_list=[]\n",
    "f1_score_list=[]\n",
    "support_list=[]\n",
    "\n",
    "#function to append the scores to each list\n",
    "def mean_max_min(report):\n",
    "    report_data = []\n",
    "    lines = report.split('\\n')\n",
    "    for line in lines[2:-3]:\n",
    "        row_data = line.split('      ')\n",
    "        precision_list.append(float(row_data[2]))\n",
    "        recall_list.append(float(row_data[3]))\n",
    "        f1_score_list.append(float(row_data[4]))\n",
    "        support_list.append(float(row_data[5]))\n",
    "\n",
    "#loop of random state integers from 1-150 \n",
    "for i in range(1,150):\n",
    "    X_train, X_test, Y_train, Y_test = train_test_split(X,Y,test_size=0.3,random_state=i)\n",
    "    rfc = RandomForestClassifier(n_estimators=90)\n",
    "    model=rfc.fit(X_train,Y_train)\n",
    "    pred_i=rfc.predict(X_test)\n",
    "    report = classification_report(Y_test,pred_i)\n",
    "    mean_max_min(report)"
   ]
  },
  {
   "cell_type": "code",
   "execution_count": 9,
   "metadata": {},
   "outputs": [
    {
     "name": "stdout",
     "output_type": "stream",
     "text": [
      "('minimum precision: ', 0.82)\n",
      "('maximum precision: ', 1.0)\n",
      "('mean precision', 0.95976510067114)\n",
      "('minimum recall: ', 0.81)\n",
      "('maximum recall: ', 1.0)\n",
      "('mean recall', 0.9593288590604021)\n",
      "('minimum F1 Score: ', 0.88)\n",
      "('maximum F1 Score: ', 1.0)\n",
      "('mean F1 Score', 0.9591946308724829)\n",
      "('minimum support: ', 39.0)\n",
      "('maximum support: ', 60.0)\n",
      "('mean support', 49.5)\n"
     ]
    }
   ],
   "source": [
    "#print out the scores min max and mean\n",
    "\n",
    "print('minimum precision: ',min(precision_list))\n",
    "print('maximum precision: ',max(precision_list))\n",
    "print('mean precision',sum(precision_list)/len(precision_list))\n",
    "\n",
    "print('minimum recall: ',min(recall_list))\n",
    "print('maximum recall: ',max(recall_list))\n",
    "print('mean recall',sum(recall_list)/len(recall_list))\n",
    "\n",
    "print('minimum F1 Score: ',min(f1_score_list))\n",
    "print('maximum F1 Score: ',max(f1_score_list))\n",
    "print('mean F1 Score',sum(f1_score_list)/len(f1_score_list))\n",
    "\n",
    "print('minimum support: ',min(support_list))\n",
    "print('maximum support: ',max(support_list))\n",
    "print('mean support',sum(support_list)/len(support_list))"
   ]
  },
  {
   "cell_type": "code",
   "execution_count": 10,
   "metadata": {},
   "outputs": [
    {
     "data": {
      "image/png": "[encoded data removed]",
      "text/plain": [
       "<matplotlib.figure.Figure at 0x115f8fd10>"
      ]
     },
     "metadata": {},
     "output_type": "display_data"
    }
   ],
   "source": [
    "#visualize the precision distribution\n",
    "plt.boxplot(precision_list)\n",
    "plt.title('Random Forest Precision Distribution of 150 Random_states')\n",
    "plt.xlabel('Smoke Detector Prediction')\n",
    "plt.ylabel('Precision')\n",
    "plt.show()"
   ]
  },
  {
   "cell_type": "code",
   "execution_count": null,
   "metadata": {
    "collapsed": true
   },
   "outputs": [],
   "source": [
    "print \"Features sorted by their score:\"\n",
    "print sorted(zip(map(lambda x: round(x, 4), rf.feature_importances_), names), \n",
    "             reverse=True)"
   ]
  },
  {
   "cell_type": "code",
   "execution_count": 23,
   "metadata": {},
   "outputs": [],
   "source": [
    "feature_importances = pd.DataFrame(rfc.feature_importances_,index = X_train.columns, columns=['importance']).sort_values('importance', ascending=False)\n",
    "\n",
    "\n",
    "\n"
   ]
  },
  {
   "cell_type": "code",
   "execution_count": 32,
   "metadata": {},
   "outputs": [
    {
     "name": "stdout",
     "output_type": "stream",
     "text": [
      "                      importance\n",
      "Yes                     0.269087\n",
      "  Garage                0.064214\n",
      "  Bathroom              0.059991\n",
      "  Lobby                 0.053827\n",
      "  Elevator Lobby        0.049752\n",
      "  Corridor              0.049077\n",
      "  Bedroom               0.033261\n",
      "  Patient Bedroom       0.031188\n",
      "  Playroom              0.030589\n",
      "  Den                   0.027152\n",
      "  Guest Bedroom         0.027106\n",
      "  Locker Room           0.025065\n",
      "  Closet                0.023974\n",
      "  Master Bedroom        0.022640\n",
      "  Living Room           0.021845\n",
      "  Foyer                 0.021777\n",
      "  Control Room          0.020227\n",
      "  Apartment Building    0.015749\n",
      "  Breakfast             0.014478\n",
      "  Pre/Post Op           0.013923\n",
      "  Hall                  0.013520\n",
      "  Reception             0.012395\n",
      "  Mechanical Room       0.011810\n",
      "  Storage               0.010766\n",
      "  Office                0.009876\n",
      "  Gym                   0.008581\n",
      "  Medical Building      0.008282\n",
      "  Office Building       0.007438\n",
      "  Break Room            0.005721\n",
      "  Breakroom             0.005255\n",
      "  Fire Pump Room        0.004742\n",
      "  Generator Room        0.003842\n",
      "  Electrical Room       0.003800\n",
      "  Conference Room       0.003456\n",
      "  Conference            0.003143\n",
      "  MRI Room              0.002542\n",
      "  Family Room           0.002134\n",
      "  Exam Room             0.002010\n",
      "  Procedure Room        0.001743\n",
      "  Operating Room        0.001638\n",
      "  Nuc Med Room          0.000803\n",
      "  Nurse Station         0.000800\n",
      "  Kitchen               0.000782\n",
      "  Spect CT Room         0.000000\n"
     ]
    },
    {
     "data": {
      "image/png": "[encoded data removed]",
      "text/plain": [
       "<matplotlib.figure.Figure at 0x118ed0b10>"
      ]
     },
     "metadata": {},
     "output_type": "display_data"
    }
   ],
   "source": [
    "print(feature_importances)\n",
    "X_train.columns\n",
    "\n",
    "# Create plot\n",
    "plt.figure()\n",
    "\n",
    "# Create plot title\n",
    "plt.title(\"Feature Importance\")\n",
    "\n",
    "# Add bars\n",
    "plt.bar(range(X.shape[1]), rfc.feature_importances_)\n",
    "\n",
    "# Add feature names as x-axis labels\n",
    "plt.xticks(range(X.shape[1]), names, rotation=90)\n",
    "\n",
    "# Show plot\n",
    "plt.show()"
   ]
  },
  {
   "cell_type": "code",
   "execution_count": null,
   "metadata": {
    "collapsed": true
   },
   "outputs": [],
   "source": []
  },
  {
   "cell_type": "code",
   "execution_count": null,
   "metadata": {},
   "outputs": [],
   "source": []
  },
  {
   "cell_type": "code",
   "execution_count": null,
   "metadata": {
    "collapsed": true
   },
   "outputs": [],
   "source": []
  },
  {
   "cell_type": "code",
   "execution_count": null,
   "metadata": {
    "collapsed": true
   },
   "outputs": [],
   "source": []
  }
 ],
 "metadata": {
  "kernelspec": {
   "display_name": "Python 2",
   "language": "python",
   "name": "python2"
  },
  "language_info": {
   "codemirror_mode": {
    "name": "ipython",
    "version": 2
   },
   "file_extension": ".py",
   "mimetype": "text/x-python",
   "name": "python",
   "nbconvert_exporter": "python",
   "pygments_lexer": "ipython2",
   "version": "2.7.13"
  }
 },
 "nbformat": 4,
 "nbformat_minor": 2
}
