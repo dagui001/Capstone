{
 "cells": [
  {
   "cell_type": "code",
   "execution_count": 1,
   "metadata": {},
   "outputs": [],
   "source": [
    "import pandas as pd\n",
    "import numpy as np\n",
    "import matplotlib.pyplot as plt\n",
    "import seaborn as sns\n",
    "%matplotlib inline\n",
    "\n",
    "#Read in the dataset\n",
    "df = pd.read_csv('data1.csv')"
   ]
  },
  {
   "cell_type": "code",
   "execution_count": 2,
   "metadata": {
    "collapsed": true
   },
   "outputs": [],
   "source": [
    "#Preprocess the dataset \n",
    "RoomName=pd.get_dummies(df['Room_Name'])\n",
    "BuildingOccupancy=pd.get_dummies(df['Building_Occupancy'])\n",
    "FireSprinkler=pd.get_dummies(df['Fire_Sprinkler'], drop_first=True)\n",
    "SmokeDetector=pd.get_dummies(df['Smoke_Detector'], drop_first=True)\n",
    "df=pd.concat([RoomName,BuildingOccupancy,FireSprinkler,df['Room_Area'],SmokeDetector],axis=1)"
   ]
  },
  {
   "cell_type": "code",
   "execution_count": 3,
   "metadata": {},
   "outputs": [
    {
     "name": "stderr",
     "output_type": "stream",
     "text": [
      "/anaconda/lib/python2.7/site-packages/sklearn/cross_validation.py:41: DeprecationWarning: This module was deprecated in version 0.18 in favor of the model_selection module into which all the refactored classes and functions are moved. Also note that the interface of the new CV iterators are different from that of this module. This module will be removed in 0.20.\n",
      "  \"This module will be removed in 0.20.\", DeprecationWarning)\n"
     ]
    }
   ],
   "source": [
    "#Split the dataset to test and train data\n",
    "from sklearn.cross_validation import train_test_split\n",
    "X=df.drop(1,axis=1)\n",
    "X=X.drop(\"Room_Area\",axis=1)\n",
    "Y=df[1]\n",
    "X_train, X_test, Y_train, Y_test=train_test_split(X,Y,test_size=0.3)"
   ]
  },
  {
   "cell_type": "code",
   "execution_count": 4,
   "metadata": {
    "collapsed": true
   },
   "outputs": [],
   "source": [
    "#Fit the training data to the Decision Tree classifier algorithm and produce classification prediction of the test data\n",
    "from sklearn.tree import DecisionTreeClassifier\n",
    "dtree=DecisionTreeClassifier()\n",
    "dtree.fit(X_train,Y_train)\n",
    "predictions = dtree.predict(X_test)"
   ]
  },
  {
   "cell_type": "code",
   "execution_count": 5,
   "metadata": {},
   "outputs": [
    {
     "name": "stdout",
     "output_type": "stream",
     "text": [
      "[[56  4]\n",
      " [ 2 37]]\n",
      "\n",
      "\n",
      "             precision    recall  f1-score   support\n",
      "\n",
      "          0       0.97      0.93      0.95        60\n",
      "          1       0.90      0.95      0.92        39\n",
      "\n",
      "avg / total       0.94      0.94      0.94        99\n",
      "\n"
     ]
    }
   ],
   "source": [
    "#Confusion matrix and Classification report of the Decision Tree classifier\n",
    "from sklearn.metrics import classification_report,confusion_matrix\n",
    "print (confusion_matrix(Y_test,predictions))\n",
    "print ('\\n')\n",
    "print (classification_report(Y_test,predictions))"
   ]
  },
  {
   "cell_type": "code",
   "execution_count": 181,
   "metadata": {
    "collapsed": true
   },
   "outputs": [],
   "source": [
    "#Fit the training data to the Random Forest classifier algorithm and produce classification prediction of the test data\n",
    "from sklearn.ensemble import RandomForestClassifier\n",
    "rfc = RandomForestClassifier(n_estimators=90)\n",
    "rfc.fit(X_train,Y_train)\n",
    "rfc_rped=rfc.predict(X_test)"
   ]
  },
  {
   "cell_type": "code",
   "execution_count": 182,
   "metadata": {},
   "outputs": [
    {
     "name": "stdout",
     "output_type": "stream",
     "text": [
      "[[48  3]\n",
      " [ 0 48]]\n",
      "\n",
      "\n",
      "             precision    recall  f1-score   support\n",
      "\n",
      "          0       1.00      0.94      0.97        51\n",
      "          1       0.94      1.00      0.97        48\n",
      "\n",
      "avg / total       0.97      0.97      0.97        99\n",
      "\n"
     ]
    }
   ],
   "source": [
    "#Confusion matrix and Classification report of the Random Forest classifier\n",
    "print (confusion_matrix(Y_test,rfc_rped))\n",
    "print ('\\n')\n",
    "print (classification_report(Y_test,rfc_rped))"
   ]
  },
  {
   "cell_type": "code",
   "execution_count": 183,
   "metadata": {
    "collapsed": true
   },
   "outputs": [],
   "source": [
    "#list of the scores that will appended from the for loop using the mean_max_min function below\n",
    "precision_list=[]\n",
    "recall_list=[]\n",
    "f1_score_list=[]\n",
    "support_list=[]\n",
    "\n",
    "#function to append the scores to each list\n",
    "def mean_max_min(report):\n",
    "    report_data = []\n",
    "    lines = report.split('\\n')\n",
    "    for line in lines[2:-3]:\n",
    "        row_data = line.split('      ')\n",
    "        precision_list.append(float(row_data[2]))\n",
    "        recall_list.append(float(row_data[3]))\n",
    "        f1_score_list.append(float(row_data[4]))\n",
    "        support_list.append(float(row_data[5]))\n",
    "\n",
    "#loop of random state integers from 1-150 \n",
    "for i in range(1,150):\n",
    "    X_train, X_test, Y_train, Y_test = train_test_split(X,Y,test_size=0.3,random_state=i)\n",
    "    rfc = RandomForestClassifier(n_estimators=90)\n",
    "    rfc.fit(X_train,Y_train)\n",
    "    pred_i=rfc.predict(X_test)\n",
    "    report = classification_report(Y_test,pred_i)\n",
    "    mean_max_min(report)"
   ]
  },
  {
   "cell_type": "code",
   "execution_count": 184,
   "metadata": {},
   "outputs": [
    {
     "name": "stdout",
     "output_type": "stream",
     "text": [
      "('minimum precision: ', 0.82)\n",
      "('maximum precision: ', 1.0)\n",
      "('mean precision', 0.9590604026845628)\n",
      "('minimum recall: ', 0.81)\n",
      "('maximum recall: ', 1.0)\n",
      "('mean recall', 0.958523489932885)\n",
      "('minimum F1 Score: ', 0.88)\n",
      "('maximum F1 Score: ', 1.0)\n",
      "('mean F1 Score', 0.9583892617449667)\n",
      "('minimum support: ', 39.0)\n",
      "('maximum support: ', 60.0)\n",
      "('mean support', 49.5)\n"
     ]
    }
   ],
   "source": [
    "#print out the scores min max and mean\n",
    "\n",
    "print('minimum precision: ',min(precision_list))\n",
    "print('maximum precision: ',max(precision_list))\n",
    "print('mean precision',sum(precision_list)/len(precision_list))\n",
    "\n",
    "print('minimum recall: ',min(recall_list))\n",
    "print('maximum recall: ',max(recall_list))\n",
    "print('mean recall',sum(recall_list)/len(recall_list))\n",
    "\n",
    "print('minimum F1 Score: ',min(f1_score_list))\n",
    "print('maximum F1 Score: ',max(f1_score_list))\n",
    "print('mean F1 Score',sum(f1_score_list)/len(f1_score_list))\n",
    "\n",
    "print('minimum support: ',min(support_list))\n",
    "print('maximum support: ',max(support_list))\n",
    "print('mean support',sum(support_list)/len(support_list))"
   ]
  },
  {
   "cell_type": "code",
   "execution_count": 186,
   "metadata": {},
   "outputs": [
    {
     "data": {
      "image/png": "[encoded data removed]",
      "text/plain": [
       "<matplotlib.figure.Figure at 0x118d2e950>"
      ]
     },
     "metadata": {},
     "output_type": "display_data"
    }
   ],
   "source": [
    "#visualize the precision distribution\n",
    "plt.boxplot(precision_list)\n",
    "plt.title('Random Forest Precision Distribution of 150 Random_states')\n",
    "plt.xlabel('Smoke Detector Prediction')\n",
    "plt.ylabel('Precision')\n",
    "plt.show()"
   ]
  },
  {
   "cell_type": "code",
   "execution_count": null,
   "metadata": {
    "collapsed": true
   },
   "outputs": [],
   "source": []
  },
  {
   "cell_type": "code",
   "execution_count": null,
   "metadata": {
    "collapsed": true
   },
   "outputs": [],
   "source": []
  }
 ],
 "metadata": {
  "kernelspec": {
   "display_name": "Python 2",
   "language": "python",
   "name": "python2"
  },
  "language_info": {
   "codemirror_mode": {
    "name": "ipython",
    "version": 2
   },
   "file_extension": ".py",
   "mimetype": "text/x-python",
   "name": "python",
   "nbconvert_exporter": "python",
   "pygments_lexer": "ipython2",
   "version": "2.7.13"
  }
 },
 "nbformat": 4,
 "nbformat_minor": 2
}
