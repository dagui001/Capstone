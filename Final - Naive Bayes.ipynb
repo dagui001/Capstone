{
 "cells": [
  {
   "cell_type": "code",
   "execution_count": 15,
   "metadata": {},
   "outputs": [],
   "source": [
    "import numpy as np\n",
    "import pandas as pd\n",
    "import urllib\n",
    "import sklearn\n",
    "from sklearn.naive_bayes import BernoulliNB\n",
    "from sklearn.naive_bayes import GaussianNB\n",
    "from sklearn.naive_bayes import MultinomialNB\n",
    "from sklearn.metrics import classification_report\n",
    "from sklearn import metrics\n",
    "from sklearn.metrics import accuracy_score\n",
    "from sklearn.cross_validation import train_test_split\n",
    "import pickle\n",
    "from collections import Counter\n",
    "import matplotlib.pyplot as plt\n",
    "%matplotlib inline\n",
    "import functools\n",
    "import csv\n",
    "from sklearn.preprocessing import StandardScaler\n",
    "\n",
    "#Read in the dataset\n",
    "df = pd.read_csv('data1.csv')"
   ]
  },
  {
   "cell_type": "code",
   "execution_count": 16,
   "metadata": {},
   "outputs": [],
   "source": [
    "#Preprocess the dataset using get_dummies\n",
    "RoomName=pd.get_dummies(df['Room_Name'])\n",
    "BuildingOccupancy=pd.get_dummies(df['Building_Occupancy'])\n",
    "FireSprinkler=pd.get_dummies(df['Fire_Sprinkler'], drop_first=True)\n",
    "SmokeDetector=pd.get_dummies(df['Smoke_Detector'], drop_first=True)\n",
    "df=pd.concat([RoomName,BuildingOccupancy,FireSprinkler,df['Room_Area'],SmokeDetector],axis=1)\n",
    "Y=df[1]\n",
    "X=df.drop(1,axis=1)"
   ]
  },
  {
   "cell_type": "code",
   "execution_count": 17,
   "metadata": {
    "collapsed": true
   },
   "outputs": [],
   "source": [
    "#Preprocess the dataset using Standard Scaler\n",
    "scaler=StandardScaler()\n",
    "scaler.fit(df.drop(1,axis=1))\n",
    "scaled_features=scaler.transform(df.drop(1, axis=1))\n",
    "scaled_features\n",
    "df_feat=pd.DataFrame(scaled_features,columns=df.columns[:-1])\n",
    "df=df_feat"
   ]
  },
  {
   "cell_type": "code",
   "execution_count": 20,
   "metadata": {},
   "outputs": [],
   "source": [
    "#Split the dataset to test and train data\n",
    "X_train, X_test, Y_train, Y_test=train_test_split(X,Y,test_size=0.3,random_state=15)"
   ]
  },
  {
   "cell_type": "code",
   "execution_count": 21,
   "metadata": {},
   "outputs": [
    {
     "name": "stdout",
     "output_type": "stream",
     "text": [
      "BernoulliNB(alpha=1.0, binarize=True, class_prior=None, fit_prior=True)\n"
     ]
    }
   ],
   "source": [
    "#Fit the training data to the Bernoulli Naive Bayes with binarize = True algorithm and produce classification prediction of the test data\n",
    "BernNB=BernoulliNB(binarize=True)\n",
    "BernNB.fit(X_train,Y_train)\n",
    "print(BernNB)"
   ]
  },
  {
   "cell_type": "code",
   "execution_count": 22,
   "metadata": {},
   "outputs": [
    {
     "name": "stdout",
     "output_type": "stream",
     "text": [
      "0.43434343434343436\n",
      "             precision    recall  f1-score   support\n",
      "\n",
      "          0       0.43      1.00      0.61        43\n",
      "          1       0.00      0.00      0.00        56\n",
      "\n",
      "avg / total       0.19      0.43      0.26        99\n",
      "\n"
     ]
    },
    {
     "name": "stderr",
     "output_type": "stream",
     "text": [
      "/anaconda/lib/python2.7/site-packages/sklearn/metrics/classification.py:1135: UndefinedMetricWarning: Precision and F-score are ill-defined and being set to 0.0 in labels with no predicted samples.\n",
      "  'precision', 'predicted', average, warn_for)\n"
     ]
    }
   ],
   "source": [
    "#Confusion matrix and Classification report of the Bernoulli Naive Bayes with binarize = True\n",
    "y_expect =Y_test\n",
    "y_pred=BernNB.predict(X_test)\n",
    "print (accuracy_score(y_expect,y_pred))\n",
    "\n",
    "print(classification_report(y_expect,y_pred))"
   ]
  },
  {
   "cell_type": "code",
   "execution_count": 23,
   "metadata": {},
   "outputs": [
    {
     "name": "stdout",
     "output_type": "stream",
     "text": [
      "MultinomialNB(alpha=1.0, class_prior=None, fit_prior=True)\n",
      "0.8383838383838383\n",
      "             precision    recall  f1-score   support\n",
      "\n",
      "          0       0.85      0.77      0.80        43\n",
      "          1       0.83      0.89      0.86        56\n",
      "\n",
      "avg / total       0.84      0.84      0.84        99\n",
      "\n"
     ]
    }
   ],
   "source": [
    "#Fit the training data to the Multinomial Naive Bayes algorithm and produce classification prediction of the test data\n",
    "MultiNB=MultinomialNB()\n",
    "\n",
    "MultiNB.fit(X_train, Y_train)\n",
    "\n",
    "y_pred=MultiNB.predict(X_test)\n",
    "\n",
    "#Confusion matrix and Classification report of the Multinomial Naive Bayes\n",
    "print accuracy_score(y_expect,y_pred)\n",
    "\n",
    "print(classification_report(y_expect,y_pred))"
   ]
  },
  {
   "cell_type": "code",
   "execution_count": 24,
   "metadata": {},
   "outputs": [
    {
     "name": "stdout",
     "output_type": "stream",
     "text": [
      "GaussianNB(priors=None)\n",
      "0.7272727272727273\n",
      "             precision    recall  f1-score   support\n",
      "\n",
      "          0       0.72      0.60      0.66        43\n",
      "          1       0.73      0.82      0.77        56\n",
      "\n",
      "avg / total       0.73      0.73      0.72        99\n",
      "\n"
     ]
    }
   ],
   "source": [
    "#Fit the training data to the Guassian Naive Bayes algorithm and produce classification prediction of the test data\n",
    "GuasNB=GaussianNB()\n",
    "GuasNB.fit(X_train,Y_train)\n",
    "\n",
    "y_pred=GuasNB.predict(X_test)\n",
    "\n",
    "#Confusion matrix and Classification report of the Guassian Naive Bayes\n",
    "print accuracy_score(y_expect, y_pred)\n",
    "\n",
    "print(classification_report(y_expect,y_pred))"
   ]
  },
  {
   "cell_type": "code",
   "execution_count": 25,
   "metadata": {},
   "outputs": [
    {
     "name": "stdout",
     "output_type": "stream",
     "text": [
      "BernoulliNB(alpha=1.0, binarize=False, class_prior=None, fit_prior=True)\n",
      "0.9393939393939394\n"
     ]
    }
   ],
   "source": [
    "#Fit the training data to the Bernoulli Naive Bayes with binarize = False algorithm and produce classification prediction of the test data\n",
    "BernNB=BernoulliNB(binarize=False)\n",
    "BernNB.fit(X_train,Y_train)\n",
    "print(BernNB)\n",
    "\n",
    "#Confusion matrix and Classification report of the Bernoulli Naive Bayes with binarize = False\n",
    "y_expect =Y_test\n",
    "y_pred=BernNB.predict(X_test)\n",
    "print (accuracy_score(y_expect,y_pred))\n",
    "print(classification_report(y_expect,y_pred))"
   ]
  },
  {
   "cell_type": "code",
   "execution_count": 27,
   "metadata": {
    "collapsed": true
   },
   "outputs": [],
   "source": [
    "#list of the scores that will appended from the for loop using the mean_max_min function below\n",
    "precision_list=[]\n",
    "recall_list=[]\n",
    "f1_score_list=[]\n",
    "support_list=[]\n",
    "\n",
    "#function to append the scores to each list\n",
    "def mean_max_min(report):\n",
    "    report_data = []\n",
    "    lines = report.split('\\n')\n",
    "    for line in lines[2:-3]:\n",
    "        row_data = line.split('      ')\n",
    "        precision_list.append(float(row_data[2]))\n",
    "        recall_list.append(float(row_data[3]))\n",
    "        f1_score_list.append(float(row_data[4]))\n",
    "        support_list.append(float(row_data[5]))\n",
    "\n",
    "#loop of random state integers from 1-150 \n",
    "for i in range(1,150):\n",
    "    X_train, X_test, Y_train, Y_test = train_test_split(X,Y,test_size=0.3,random_state=i)\n",
    "    BernNB=BernoulliNB(binarize=False)\n",
    "    BernNB.fit(X_train,Y_train)\n",
    "    pred_i=BernNB.predict(X_test)\n",
    "    report = classification_report(Y_test,pred_i)\n",
    "    mean_max_min(report)"
   ]
  },
  {
   "cell_type": "code",
   "execution_count": 28,
   "metadata": {},
   "outputs": [
    {
     "name": "stdout",
     "output_type": "stream",
     "text": [
      "('minimum precision: ', 0.78)\n",
      "('maximum precision: ', 1.0)\n",
      "('mean precision', 0.9250335570469788)\n",
      "('minimum recall: ', 0.79)\n",
      "('maximum recall: ', 1.0)\n",
      "('mean recall', 0.9243288590604017)\n",
      "('minimum F1 Score: ', 0.82)\n",
      "('maximum F1 Score: ', 0.99)\n",
      "('mean F1 Score', 0.9233221476510051)\n",
      "('minimum support: ', 39.0)\n",
      "('maximum support: ', 60.0)\n",
      "('mean support', 49.5)\n"
     ]
    }
   ],
   "source": [
    "#print out the scores min max and mean\n",
    "\n",
    "print('minimum precision: ',min(precision_list))\n",
    "print('maximum precision: ',max(precision_list))\n",
    "print('mean precision',sum(precision_list)/len(precision_list))\n",
    "\n",
    "print('minimum recall: ',min(recall_list))\n",
    "print('maximum recall: ',max(recall_list))\n",
    "print('mean recall',sum(recall_list)/len(recall_list))\n",
    "\n",
    "print('minimum F1 Score: ',min(f1_score_list))\n",
    "print('maximum F1 Score: ',max(f1_score_list))\n",
    "print('mean F1 Score',sum(f1_score_list)/len(f1_score_list))\n",
    "\n",
    "print('minimum support: ',min(support_list))\n",
    "print('maximum support: ',max(support_list))\n",
    "print('mean support',sum(support_list)/len(support_list))"
   ]
  },
  {
   "cell_type": "code",
   "execution_count": 30,
   "metadata": {},
   "outputs": [
    {
     "data": {
      "image/png": "[encoded data removed]",
      "text/plain": [
       "<matplotlib.figure.Figure at 0x1228ee990>"
      ]
     },
     "metadata": {},
     "output_type": "display_data"
    }
   ],
   "source": [
    "#visualize the precision distribution\n",
    "plt.boxplot(precision_list)\n",
    "plt.title('Naive Bayes Precision Distribution of 150 Random_states')\n",
    "plt.xlabel('Smoke Detector Prediction')\n",
    "plt.ylabel('Precision')\n",
    "plt.show()"
   ]
  },
  {
   "cell_type": "code",
   "execution_count": null,
   "metadata": {
    "collapsed": true
   },
   "outputs": [],
   "source": []
  }
 ],
 "metadata": {
  "kernelspec": {
   "display_name": "Python 2",
   "language": "python",
   "name": "python2"
  },
  "language_info": {
   "codemirror_mode": {
    "name": "ipython",
    "version": 2
   },
   "file_extension": ".py",
   "mimetype": "text/x-python",
   "name": "python",
   "nbconvert_exporter": "python",
   "pygments_lexer": "ipython2",
   "version": "2.7.13"
  }
 },
 "nbformat": 4,
 "nbformat_minor": 2
}
